{
 "cells": [
  {
   "cell_type": "code",
   "execution_count": null,
   "metadata": {},
   "outputs": [],
   "source": [
    "import numpy as np\n",
    "import pylab as plt\n",
    "import matplotlib\n",
    "import datetime\n",
    "%matplotlib inline"
   ]
  },
  {
   "cell_type": "markdown",
   "metadata": {},
   "source": [
    "### Modelling Intraday Volatility\n",
    "\n",
    "http://pure.au.dk/portal/files/116799978/rp17_30.pdf"
   ]
  },
  {
   "cell_type": "code",
   "execution_count": null,
   "metadata": {},
   "outputs": [],
   "source": [
    "# Binural Process, pg 22\n",
    "N = 8 * 3600\n",
    "A = 0.75\n",
    "B = 0.25\n",
    "C = 0.088929198\n",
    "a1  = a2 = 10\n",
    "t = np.arange(N)/N\n",
    "sigma = lambda t: C + A * np.exp(-a1 * t) + B * np.exp(-a2 * (1-t))\n",
    "plt.plot(sigma(t),'b-',lw=5)\n",
    "plt.xlabel('time');\n",
    "plt.ylabel('annualized intraday volatility');"
   ]
  },
  {
   "cell_type": "markdown",
   "metadata": {},
   "source": [
    "### Modelling Intraday Spread\n",
    "\n",
    "https://www.google.com/url?sa=t&rct=j&q=&esrc=s&source=web&cd=6&cad=rja&uact=8&ved=2ahUKEwjnjLH2vd7kAhVEILcAHQqxAr0QFjAFegQIABAB&url=https%3A%2F%2Fwww.researchgate.net%2Fpublication%2F228318832_A_Simple_Approximation_of_Intraday_Spreads_Using_Daily_Data&usg=AOvVaw2DmrwFF9qBq3AeEaMcSblY\n",
    "\n",
    "https://www3.nd.edu/~scorwin/papers/high-low_spreads_Internet%20Appendix.pdf"
   ]
  },
  {
   "cell_type": "code",
   "execution_count": null,
   "metadata": {},
   "outputs": [],
   "source": [
    "N = 8 * 3600\n",
    "At = 0.00075\n",
    "Bt = 0.00015\n",
    "Ct = 0.06929198\n",
    "a1t  = a2t = 7\n",
    "t = np.arange(N)/N\n",
    "spread = lambda t: Ct + At * np.exp(-a1t * t) + Bt * np.exp(-a2t * (1-t))\n",
    "plt.plot(spread(t),'r-',lw=5)\n",
    "plt.xlabel('time');\n",
    "plt.ylabel('bid/ask spread');"
   ]
  },
  {
   "cell_type": "markdown",
   "metadata": {},
   "source": [
    "### Calculating Bid/Ask"
   ]
  },
  {
   "cell_type": "code",
   "execution_count": null,
   "metadata": {},
   "outputs": [],
   "source": [
    "def make_price(P0,vol_multiplier):\n",
    "    '''\n",
    "    vol_multilplier: simple 'fudge factor' for changing volatility\n",
    "    P0: starting price\n",
    "    '''\n",
    "    np.random.seed(271)\n",
    "    ask = []\n",
    "    bid = []\n",
    "    Pmid = P0\n",
    "    for i in t:\n",
    "        Pmid += random.randn() * sigma(i)/sqrt(252*8*3600) * vol_multiplier\n",
    "        bas = spread(i)\n",
    "        bid.append(Pmid - bas/2.)\n",
    "        ask.append(Pmid + bas/2.)\n",
    "    return bid,ask \n",
    "\n",
    "bid,ask = make_price(10,10)    "
   ]
  },
  {
   "cell_type": "code",
   "execution_count": null,
   "metadata": {},
   "outputs": [],
   "source": [
    "plt.plot(bid,label='bid');\n",
    "plt.plot(ask,label='ask');\n",
    "plt.legend(loc='best');\n",
    "plt.xlabel('time in secs');\n",
    "plt.ylabel('price');\n",
    "plt.show()\n",
    "\n",
    "\n",
    "plt.plot(np.array(ask)-np.array(bid),label='spread')\n",
    "plt.legend()\n",
    "plt.xlabel('time in secs');\n",
    "plt.ylabel('spread');"
   ]
  },
  {
   "cell_type": "markdown",
   "metadata": {},
   "source": [
    "### Trading Cost Variation"
   ]
  },
  {
   "cell_type": "code",
   "execution_count": null,
   "metadata": {},
   "outputs": [],
   "source": [
    "def calc_exec_cost(T,n,bid,ask):\n",
    "\n",
    "    bid0 = bid[T]\n",
    "    ask0 = ask[T]\n",
    "    mid0 = (ask0 + bid0)/2.\n",
    "\n",
    "    bid1 = bid[T+n]\n",
    "    ask1 = ask[T+n]\n",
    "    mid1 = (ask1 + bid1)/2.\n",
    "\n",
    "    cost = ask1 - mid0\n",
    "    return cost\n",
    "\n",
    "calc_exec_cost(100,2,bid,ask)"
   ]
  },
  {
   "cell_type": "code",
   "execution_count": null,
   "metadata": {},
   "outputs": [],
   "source": [
    "inc0 = 10\n",
    "C1 = []\n",
    "fast_exec_period = 2\n",
    "for T in range(0,N,inc0):\n",
    "    C1.append(calc_exec_cost(T,fast_exec_period,bid,ask))\n",
    "\n",
    "C2 = []\n",
    "slow_exec_period = 8\n",
    "for T in range(0,N,inc0):\n",
    "    C2.append(calc_exec_cost(T,slow_exec_period,bid,ask))\n",
    "    \n",
    "plt.plot(C2,label='slow execution');\n",
    "plt.plot(C1,label='fast execution');\n",
    "plt.legend(loc='best');\n",
    "plt.xlabel('time in secs * %s'%inc0);\n",
    "plt.ylabel('trading cost');\n",
    "plt.title('Time variation in execution cost')"
   ]
  },
  {
   "cell_type": "markdown",
   "metadata": {},
   "source": [
    "### Analysis"
   ]
  },
  {
   "cell_type": "code",
   "execution_count": null,
   "metadata": {},
   "outputs": [],
   "source": [
    "plt.hist(C1[:600],80,label='open');\n",
    "plt.hist(C1[1200:1800],40,label='midday');\n",
    "plt.legend()\n",
    "plt.title('Trading cost distribution at different parts of the day');"
   ]
  },
  {
   "cell_type": "code",
   "execution_count": null,
   "metadata": {},
   "outputs": [],
   "source": [
    "inc = 100\n",
    "Mid = []\n",
    "for i in range(inc,N,inc):\n",
    "    Mid.append(np.mean(C1[i-inc:i]))\n",
    "\n",
    "plt.plot(Mid)\n",
    "plt.legend(loc='best')\n",
    "plt.xlabel('time in secs*%s'%inc)\n",
    "plt.ylabel('cost')\n",
    "plt.title('execution cost averaged over %s periods'%inc)\n",
    "plt.legend()\n",
    "plt.grid()\n",
    "plt.show()"
   ]
  },
  {
   "cell_type": "markdown",
   "metadata": {},
   "source": [
    "### Conclusions\n",
    "\n",
    "- Execution time matters\n",
    "- Execution cost is, on average, lower mid-day (but so is liquidity)\n",
    "- Difference is more pronounced in low-vol conditions"
   ]
  },
  {
   "cell_type": "code",
   "execution_count": null,
   "metadata": {},
   "outputs": [],
   "source": []
  }
 ],
 "metadata": {
  "kernelspec": {
   "display_name": "Python 3",
   "language": "python",
   "name": "tribo"
  },
  "language_info": {
   "codemirror_mode": {
    "name": "ipython",
    "version": 3
   },
   "file_extension": ".py",
   "mimetype": "text/x-python",
   "name": "python",
   "nbconvert_exporter": "python",
   "pygments_lexer": "ipython3",
   "version": "3.6.1"
  }
 },
 "nbformat": 4,
 "nbformat_minor": 2
}
